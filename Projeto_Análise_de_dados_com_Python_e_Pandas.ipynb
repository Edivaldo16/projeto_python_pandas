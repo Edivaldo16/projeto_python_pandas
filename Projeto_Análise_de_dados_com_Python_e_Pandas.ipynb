{
  "nbformat": 4,
  "nbformat_minor": 0,
  "metadata": {
    "colab": {
      "name": "Projeto Análise de dados com Python e Pandas.ipynb",
      "provenance": [],
      "collapsed_sections": [],
      "authorship_tag": "ABX9TyNekzME+ldrR0n+brllutP1",
      "include_colab_link": true
    },
    "kernelspec": {
      "name": "python3",
      "display_name": "Python 3"
    },
    "language_info": {
      "name": "python"
    }
  },
  "cells": [
    {
      "cell_type": "markdown",
      "metadata": {
        "id": "view-in-github",
        "colab_type": "text"
      },
      "source": [
        "<a href=\"https://colab.research.google.com/github/Edivaldo16/projeto_python_pandas/blob/main/Projeto_An%C3%A1lise_de_dados_com_Python_e_Pandas.ipynb\" target=\"_parent\"><img src=\"https://colab.research.google.com/assets/colab-badge.svg\" alt=\"Open In Colab\"/></a>"
      ]
    },
    {
      "cell_type": "markdown",
      "metadata": {
        "id": "nsc9lsmW7iFM"
      },
      "source": [
        "# Projeto Análise de dados com Python e Pandas"
      ]
    },
    {
      "cell_type": "code",
      "metadata": {
        "id": "umAWawRTyjKf"
      },
      "source": [
        "import pandas as pd # Importando biblioteca \"pandas\" como \"pd\""
      ],
      "execution_count": 2,
      "outputs": []
    },
    {
      "cell_type": "code",
      "metadata": {
        "id": "QHpxc_fOyyUX"
      },
      "source": [
        "df = pd.DataFrame({\"A\": [1, 2, 3, 4, 5], \"B\": [4, 5, 6, 9, 13], \"C\": [3,7,8,13,15], \"D\": [8,15,25,9,11], \"E\": [8,15,25,9,11]})"
      ],
      "execution_count": 41,
      "outputs": []
    },
    {
      "cell_type": "code",
      "metadata": {
        "colab": {
          "base_uri": "https://localhost:8080/",
          "height": 203
        },
        "id": "_QpdqcdJy1ON",
        "outputId": "b3d116a5-4d42-44e5-c07d-35e42f4007d6"
      },
      "source": [
        "df"
      ],
      "execution_count": 42,
      "outputs": [
        {
          "output_type": "execute_result",
          "data": {
            "text/html": [
              "<div>\n",
              "<style scoped>\n",
              "    .dataframe tbody tr th:only-of-type {\n",
              "        vertical-align: middle;\n",
              "    }\n",
              "\n",
              "    .dataframe tbody tr th {\n",
              "        vertical-align: top;\n",
              "    }\n",
              "\n",
              "    .dataframe thead th {\n",
              "        text-align: right;\n",
              "    }\n",
              "</style>\n",
              "<table border=\"1\" class=\"dataframe\">\n",
              "  <thead>\n",
              "    <tr style=\"text-align: right;\">\n",
              "      <th></th>\n",
              "      <th>A</th>\n",
              "      <th>B</th>\n",
              "      <th>C</th>\n",
              "      <th>D</th>\n",
              "      <th>E</th>\n",
              "    </tr>\n",
              "  </thead>\n",
              "  <tbody>\n",
              "    <tr>\n",
              "      <th>0</th>\n",
              "      <td>1</td>\n",
              "      <td>4</td>\n",
              "      <td>3</td>\n",
              "      <td>8</td>\n",
              "      <td>8</td>\n",
              "    </tr>\n",
              "    <tr>\n",
              "      <th>1</th>\n",
              "      <td>2</td>\n",
              "      <td>5</td>\n",
              "      <td>7</td>\n",
              "      <td>15</td>\n",
              "      <td>15</td>\n",
              "    </tr>\n",
              "    <tr>\n",
              "      <th>2</th>\n",
              "      <td>3</td>\n",
              "      <td>6</td>\n",
              "      <td>8</td>\n",
              "      <td>25</td>\n",
              "      <td>25</td>\n",
              "    </tr>\n",
              "    <tr>\n",
              "      <th>3</th>\n",
              "      <td>4</td>\n",
              "      <td>9</td>\n",
              "      <td>13</td>\n",
              "      <td>9</td>\n",
              "      <td>9</td>\n",
              "    </tr>\n",
              "    <tr>\n",
              "      <th>4</th>\n",
              "      <td>5</td>\n",
              "      <td>13</td>\n",
              "      <td>15</td>\n",
              "      <td>11</td>\n",
              "      <td>11</td>\n",
              "    </tr>\n",
              "  </tbody>\n",
              "</table>\n",
              "</div>"
            ],
            "text/plain": [
              "   A   B   C   D   E\n",
              "0  1   4   3   8   8\n",
              "1  2   5   7  15  15\n",
              "2  3   6   8  25  25\n",
              "3  4   9  13   9   9\n",
              "4  5  13  15  11  11"
            ]
          },
          "metadata": {},
          "execution_count": 42
        }
      ]
    },
    {
      "cell_type": "code",
      "metadata": {
        "id": "naciWTfDy3w1"
      },
      "source": [
        "df = df.rename(columns={\"A\": \"Pão\", \"B\":\"Barbecue\", \"C\": \"Tomate\", \"D\":\"Cebola\", \"E\":\"Abacaxi\"})"
      ],
      "execution_count": 46,
      "outputs": []
    },
    {
      "cell_type": "code",
      "metadata": {
        "colab": {
          "base_uri": "https://localhost:8080/",
          "height": 203
        },
        "id": "0WXVc6Sb0tRQ",
        "outputId": "87aee15c-fc03-4b06-c2d9-8e17ee1cd6a9"
      },
      "source": [
        "# Criando a coluna \"Hamburguers\"\n",
        "\n",
        "df[\"Hamburguers\"] = df[\"Pão\"].mul(df[\"Tomate\"])\n",
        "df"
      ],
      "execution_count": 93,
      "outputs": [
        {
          "output_type": "execute_result",
          "data": {
            "text/html": [
              "<div>\n",
              "<style scoped>\n",
              "    .dataframe tbody tr th:only-of-type {\n",
              "        vertical-align: middle;\n",
              "    }\n",
              "\n",
              "    .dataframe tbody tr th {\n",
              "        vertical-align: top;\n",
              "    }\n",
              "\n",
              "    .dataframe thead th {\n",
              "        text-align: right;\n",
              "    }\n",
              "</style>\n",
              "<table border=\"1\" class=\"dataframe\">\n",
              "  <thead>\n",
              "    <tr style=\"text-align: right;\">\n",
              "      <th></th>\n",
              "      <th>Pão</th>\n",
              "      <th>Barbecue</th>\n",
              "      <th>Tomate</th>\n",
              "      <th>Cebola</th>\n",
              "      <th>Abacaxi</th>\n",
              "      <th>Hamburguers</th>\n",
              "    </tr>\n",
              "  </thead>\n",
              "  <tbody>\n",
              "    <tr>\n",
              "      <th>0</th>\n",
              "      <td>1</td>\n",
              "      <td>4</td>\n",
              "      <td>3</td>\n",
              "      <td>8</td>\n",
              "      <td>8</td>\n",
              "      <td>3</td>\n",
              "    </tr>\n",
              "    <tr>\n",
              "      <th>1</th>\n",
              "      <td>2</td>\n",
              "      <td>5</td>\n",
              "      <td>7</td>\n",
              "      <td>15</td>\n",
              "      <td>15</td>\n",
              "      <td>14</td>\n",
              "    </tr>\n",
              "    <tr>\n",
              "      <th>2</th>\n",
              "      <td>3</td>\n",
              "      <td>6</td>\n",
              "      <td>8</td>\n",
              "      <td>25</td>\n",
              "      <td>25</td>\n",
              "      <td>24</td>\n",
              "    </tr>\n",
              "    <tr>\n",
              "      <th>3</th>\n",
              "      <td>4</td>\n",
              "      <td>9</td>\n",
              "      <td>13</td>\n",
              "      <td>9</td>\n",
              "      <td>9</td>\n",
              "      <td>52</td>\n",
              "    </tr>\n",
              "    <tr>\n",
              "      <th>4</th>\n",
              "      <td>5</td>\n",
              "      <td>13</td>\n",
              "      <td>15</td>\n",
              "      <td>11</td>\n",
              "      <td>11</td>\n",
              "      <td>75</td>\n",
              "    </tr>\n",
              "  </tbody>\n",
              "</table>\n",
              "</div>"
            ],
            "text/plain": [
              "   Pão  Barbecue  Tomate  Cebola  Abacaxi  Hamburguers\n",
              "0    1         4       3       8        8            3\n",
              "1    2         5       7      15       15           14\n",
              "2    3         6       8      25       25           24\n",
              "3    4         9      13       9        9           52\n",
              "4    5        13      15      11       11           75"
            ]
          },
          "metadata": {},
          "execution_count": 93
        }
      ]
    },
    {
      "cell_type": "code",
      "metadata": {
        "id": "FmP4-K7x8s6Z"
      },
      "source": [
        "# Importando arquivo Bauru\n",
        "\n",
        "df1 = pd.read_excel(\"Bauru.xlsx\")\n",
        "\n",
        "# df = pd.DataFrame({\"Pão\": [10,25, 8, 9, 14], \"Queijo\": [, 4, 11, 12, 15], \"Presunto\": [8, , , 13, 20], \n",
        "# \"Requeijão\": [7,5,12,,4], \"Orégano\": [6, 9, 15,9, ]})\n",
        "df1"
      ],
      "execution_count": null,
      "outputs": []
    },
    {
      "cell_type": "code",
      "metadata": {
        "colab": {
          "base_uri": "https://localhost:8080/"
        },
        "id": "EbsanHBXA0Rz",
        "outputId": "60264ca9-bcb2-4309-b635-9bb31603d0cc"
      },
      "source": [
        "# Consultando linhas com valores faltantes\n",
        "\n",
        "df1.isnull().sum()"
      ],
      "execution_count": 83,
      "outputs": [
        {
          "output_type": "execute_result",
          "data": {
            "text/plain": [
              "Pão          0\n",
              "Queijo       1\n",
              "Presunto     2\n",
              "Requeijão    1\n",
              "Orégano      1\n",
              "dtype: int64"
            ]
          },
          "metadata": {},
          "execution_count": 83
        }
      ]
    },
    {
      "cell_type": "code",
      "metadata": {
        "id": "HnCRt55pnYTb"
      },
      "source": [
        "# Substituindo os valores nulos por zeros - Linha a Linha\n",
        "\n",
        "#df1[\"Queijo\"].fillna(df1[\"Queijo\"].min(), inplace = True) # substituição do obejto em memória\n",
        "#df1[\"Presunto\"].fillna(df1[\"Presunto\"].min(), inplace = True) # substituição do obejto em memória\n",
        "#df1[\"Requeijão\"].fillna(df1[\"Requeijão\"].min(), inplace = True) # substituição do obejto em memória\n",
        "#df1[\"Orégano\"].fillna(df1[\"Orégano\"].min(), inplace = True) # substituição do obejto em memória\n",
        "\n",
        "# Método simplificado:\n",
        "df1.fillna(df1.min(), inplace = True)"
      ],
      "execution_count": 119,
      "outputs": []
    },
    {
      "cell_type": "code",
      "metadata": {
        "colab": {
          "base_uri": "https://localhost:8080/",
          "height": 203
        },
        "id": "ercWrL96D4v_",
        "outputId": "af7f67d3-57ca-424a-e419-5b477ab392cc"
      },
      "source": [
        "df1"
      ],
      "execution_count": 120,
      "outputs": [
        {
          "output_type": "execute_result",
          "data": {
            "text/html": [
              "<div>\n",
              "<style scoped>\n",
              "    .dataframe tbody tr th:only-of-type {\n",
              "        vertical-align: middle;\n",
              "    }\n",
              "\n",
              "    .dataframe tbody tr th {\n",
              "        vertical-align: top;\n",
              "    }\n",
              "\n",
              "    .dataframe thead th {\n",
              "        text-align: right;\n",
              "    }\n",
              "</style>\n",
              "<table border=\"1\" class=\"dataframe\">\n",
              "  <thead>\n",
              "    <tr style=\"text-align: right;\">\n",
              "      <th></th>\n",
              "      <th>Pão</th>\n",
              "      <th>Queijo</th>\n",
              "      <th>Presunto</th>\n",
              "      <th>Requeijão</th>\n",
              "      <th>Orégano</th>\n",
              "      <th>Bauru</th>\n",
              "    </tr>\n",
              "  </thead>\n",
              "  <tbody>\n",
              "    <tr>\n",
              "      <th>0</th>\n",
              "      <td>10</td>\n",
              "      <td>4.0</td>\n",
              "      <td>8.0</td>\n",
              "      <td>7.0</td>\n",
              "      <td>6.0</td>\n",
              "      <td>60.0</td>\n",
              "    </tr>\n",
              "    <tr>\n",
              "      <th>1</th>\n",
              "      <td>25</td>\n",
              "      <td>4.0</td>\n",
              "      <td>8.0</td>\n",
              "      <td>5.0</td>\n",
              "      <td>9.0</td>\n",
              "      <td>225.0</td>\n",
              "    </tr>\n",
              "    <tr>\n",
              "      <th>2</th>\n",
              "      <td>8</td>\n",
              "      <td>11.0</td>\n",
              "      <td>8.0</td>\n",
              "      <td>12.0</td>\n",
              "      <td>15.0</td>\n",
              "      <td>120.0</td>\n",
              "    </tr>\n",
              "    <tr>\n",
              "      <th>3</th>\n",
              "      <td>9</td>\n",
              "      <td>12.0</td>\n",
              "      <td>13.0</td>\n",
              "      <td>4.0</td>\n",
              "      <td>9.0</td>\n",
              "      <td>81.0</td>\n",
              "    </tr>\n",
              "    <tr>\n",
              "      <th>4</th>\n",
              "      <td>14</td>\n",
              "      <td>15.0</td>\n",
              "      <td>20.0</td>\n",
              "      <td>4.0</td>\n",
              "      <td>6.0</td>\n",
              "      <td>84.0</td>\n",
              "    </tr>\n",
              "  </tbody>\n",
              "</table>\n",
              "</div>"
            ],
            "text/plain": [
              "   Pão  Queijo  Presunto  Requeijão  Orégano  Bauru\n",
              "0   10     4.0       8.0        7.0      6.0   60.0\n",
              "1   25     4.0       8.0        5.0      9.0  225.0\n",
              "2    8    11.0       8.0       12.0     15.0  120.0\n",
              "3    9    12.0      13.0        4.0      9.0   81.0\n",
              "4   14    15.0      20.0        4.0      6.0   84.0"
            ]
          },
          "metadata": {},
          "execution_count": 120
        }
      ]
    },
    {
      "cell_type": "code",
      "metadata": {
        "id": "deFwh9ksFqxr"
      },
      "source": [
        "df1[\"Bauru\"] = df1[\"Pão\"].mul(df1[\"Orégano\"])\n",
        "df1"
      ],
      "execution_count": null,
      "outputs": []
    },
    {
      "cell_type": "markdown",
      "metadata": {
        "id": "CfUFsXR0GLw2"
      },
      "source": [
        "### Lanchone: Burgueria e Bauru"
      ]
    },
    {
      "cell_type": "code",
      "metadata": {
        "id": "FhrGpVIaGS0x"
      },
      "source": [
        "# Juntando todos os arquivos\n",
        "\n",
        "a = pd.concat([df,df1])"
      ],
      "execution_count": 151,
      "outputs": []
    },
    {
      "cell_type": "code",
      "metadata": {
        "colab": {
          "base_uri": "https://localhost:8080/",
          "height": 357
        },
        "id": "8f7tEgelGj_m",
        "outputId": "2f48e791-33ae-464a-d324-a1c2d3eea2c1"
      },
      "source": [
        "a"
      ],
      "execution_count": 152,
      "outputs": [
        {
          "output_type": "execute_result",
          "data": {
            "text/html": [
              "<div>\n",
              "<style scoped>\n",
              "    .dataframe tbody tr th:only-of-type {\n",
              "        vertical-align: middle;\n",
              "    }\n",
              "\n",
              "    .dataframe tbody tr th {\n",
              "        vertical-align: top;\n",
              "    }\n",
              "\n",
              "    .dataframe thead th {\n",
              "        text-align: right;\n",
              "    }\n",
              "</style>\n",
              "<table border=\"1\" class=\"dataframe\">\n",
              "  <thead>\n",
              "    <tr style=\"text-align: right;\">\n",
              "      <th></th>\n",
              "      <th>Pão</th>\n",
              "      <th>Barbecue</th>\n",
              "      <th>Tomate</th>\n",
              "      <th>Cebola</th>\n",
              "      <th>Abacaxi</th>\n",
              "      <th>Hamburguers</th>\n",
              "      <th>Queijo</th>\n",
              "      <th>Presunto</th>\n",
              "      <th>Requeijão</th>\n",
              "      <th>Orégano</th>\n",
              "      <th>Bauru</th>\n",
              "    </tr>\n",
              "  </thead>\n",
              "  <tbody>\n",
              "    <tr>\n",
              "      <th>0</th>\n",
              "      <td>1</td>\n",
              "      <td>4.0</td>\n",
              "      <td>3.0</td>\n",
              "      <td>8.0</td>\n",
              "      <td>8.0</td>\n",
              "      <td>3.0</td>\n",
              "      <td>NaN</td>\n",
              "      <td>NaN</td>\n",
              "      <td>NaN</td>\n",
              "      <td>NaN</td>\n",
              "      <td>NaN</td>\n",
              "    </tr>\n",
              "    <tr>\n",
              "      <th>1</th>\n",
              "      <td>2</td>\n",
              "      <td>5.0</td>\n",
              "      <td>7.0</td>\n",
              "      <td>15.0</td>\n",
              "      <td>15.0</td>\n",
              "      <td>14.0</td>\n",
              "      <td>NaN</td>\n",
              "      <td>NaN</td>\n",
              "      <td>NaN</td>\n",
              "      <td>NaN</td>\n",
              "      <td>NaN</td>\n",
              "    </tr>\n",
              "    <tr>\n",
              "      <th>2</th>\n",
              "      <td>3</td>\n",
              "      <td>6.0</td>\n",
              "      <td>8.0</td>\n",
              "      <td>25.0</td>\n",
              "      <td>25.0</td>\n",
              "      <td>24.0</td>\n",
              "      <td>NaN</td>\n",
              "      <td>NaN</td>\n",
              "      <td>NaN</td>\n",
              "      <td>NaN</td>\n",
              "      <td>NaN</td>\n",
              "    </tr>\n",
              "    <tr>\n",
              "      <th>3</th>\n",
              "      <td>4</td>\n",
              "      <td>9.0</td>\n",
              "      <td>13.0</td>\n",
              "      <td>9.0</td>\n",
              "      <td>9.0</td>\n",
              "      <td>52.0</td>\n",
              "      <td>NaN</td>\n",
              "      <td>NaN</td>\n",
              "      <td>NaN</td>\n",
              "      <td>NaN</td>\n",
              "      <td>NaN</td>\n",
              "    </tr>\n",
              "    <tr>\n",
              "      <th>4</th>\n",
              "      <td>5</td>\n",
              "      <td>13.0</td>\n",
              "      <td>15.0</td>\n",
              "      <td>11.0</td>\n",
              "      <td>11.0</td>\n",
              "      <td>75.0</td>\n",
              "      <td>NaN</td>\n",
              "      <td>NaN</td>\n",
              "      <td>NaN</td>\n",
              "      <td>NaN</td>\n",
              "      <td>NaN</td>\n",
              "    </tr>\n",
              "    <tr>\n",
              "      <th>0</th>\n",
              "      <td>10</td>\n",
              "      <td>NaN</td>\n",
              "      <td>NaN</td>\n",
              "      <td>NaN</td>\n",
              "      <td>NaN</td>\n",
              "      <td>NaN</td>\n",
              "      <td>4.0</td>\n",
              "      <td>8.0</td>\n",
              "      <td>7.0</td>\n",
              "      <td>6.0</td>\n",
              "      <td>60.0</td>\n",
              "    </tr>\n",
              "    <tr>\n",
              "      <th>1</th>\n",
              "      <td>25</td>\n",
              "      <td>NaN</td>\n",
              "      <td>NaN</td>\n",
              "      <td>NaN</td>\n",
              "      <td>NaN</td>\n",
              "      <td>NaN</td>\n",
              "      <td>4.0</td>\n",
              "      <td>8.0</td>\n",
              "      <td>5.0</td>\n",
              "      <td>9.0</td>\n",
              "      <td>225.0</td>\n",
              "    </tr>\n",
              "    <tr>\n",
              "      <th>2</th>\n",
              "      <td>8</td>\n",
              "      <td>NaN</td>\n",
              "      <td>NaN</td>\n",
              "      <td>NaN</td>\n",
              "      <td>NaN</td>\n",
              "      <td>NaN</td>\n",
              "      <td>11.0</td>\n",
              "      <td>8.0</td>\n",
              "      <td>12.0</td>\n",
              "      <td>15.0</td>\n",
              "      <td>120.0</td>\n",
              "    </tr>\n",
              "    <tr>\n",
              "      <th>3</th>\n",
              "      <td>9</td>\n",
              "      <td>NaN</td>\n",
              "      <td>NaN</td>\n",
              "      <td>NaN</td>\n",
              "      <td>NaN</td>\n",
              "      <td>NaN</td>\n",
              "      <td>12.0</td>\n",
              "      <td>13.0</td>\n",
              "      <td>4.0</td>\n",
              "      <td>9.0</td>\n",
              "      <td>81.0</td>\n",
              "    </tr>\n",
              "    <tr>\n",
              "      <th>4</th>\n",
              "      <td>14</td>\n",
              "      <td>NaN</td>\n",
              "      <td>NaN</td>\n",
              "      <td>NaN</td>\n",
              "      <td>NaN</td>\n",
              "      <td>NaN</td>\n",
              "      <td>15.0</td>\n",
              "      <td>20.0</td>\n",
              "      <td>4.0</td>\n",
              "      <td>6.0</td>\n",
              "      <td>84.0</td>\n",
              "    </tr>\n",
              "  </tbody>\n",
              "</table>\n",
              "</div>"
            ],
            "text/plain": [
              "   Pão  Barbecue  Tomate  Cebola  ...  Presunto  Requeijão  Orégano  Bauru\n",
              "0    1       4.0     3.0     8.0  ...       NaN        NaN      NaN    NaN\n",
              "1    2       5.0     7.0    15.0  ...       NaN        NaN      NaN    NaN\n",
              "2    3       6.0     8.0    25.0  ...       NaN        NaN      NaN    NaN\n",
              "3    4       9.0    13.0     9.0  ...       NaN        NaN      NaN    NaN\n",
              "4    5      13.0    15.0    11.0  ...       NaN        NaN      NaN    NaN\n",
              "0   10       NaN     NaN     NaN  ...       8.0        7.0      6.0   60.0\n",
              "1   25       NaN     NaN     NaN  ...       8.0        5.0      9.0  225.0\n",
              "2    8       NaN     NaN     NaN  ...       8.0       12.0     15.0  120.0\n",
              "3    9       NaN     NaN     NaN  ...      13.0        4.0      9.0   81.0\n",
              "4   14       NaN     NaN     NaN  ...      20.0        4.0      6.0   84.0\n",
              "\n",
              "[10 rows x 11 columns]"
            ]
          },
          "metadata": {},
          "execution_count": 152
        }
      ]
    },
    {
      "cell_type": "code",
      "metadata": {
        "id": "LTJlOkNGHIJv"
      },
      "source": [
        "# Substituindo os valores nulos por zeros\n",
        "\n",
        "a.fillna(0, inplace = True) # substituição do obejto em memória"
      ],
      "execution_count": 153,
      "outputs": []
    },
    {
      "cell_type": "code",
      "metadata": {
        "colab": {
          "base_uri": "https://localhost:8080/",
          "height": 142
        },
        "id": "ZHBC89nZKXKc",
        "outputId": "afe93c45-e2c2-441b-a212-a3f80e4f0375"
      },
      "source": [
        "# Comando que traz os maiores valores de uma deternimada coluna 'variável'.nlargest(quantidade, \"Coluna\")\n",
        "\n",
        "a.nlargest(3, \"Hamburguers\")"
      ],
      "execution_count": 154,
      "outputs": [
        {
          "output_type": "execute_result",
          "data": {
            "text/html": [
              "<div>\n",
              "<style scoped>\n",
              "    .dataframe tbody tr th:only-of-type {\n",
              "        vertical-align: middle;\n",
              "    }\n",
              "\n",
              "    .dataframe tbody tr th {\n",
              "        vertical-align: top;\n",
              "    }\n",
              "\n",
              "    .dataframe thead th {\n",
              "        text-align: right;\n",
              "    }\n",
              "</style>\n",
              "<table border=\"1\" class=\"dataframe\">\n",
              "  <thead>\n",
              "    <tr style=\"text-align: right;\">\n",
              "      <th></th>\n",
              "      <th>Pão</th>\n",
              "      <th>Barbecue</th>\n",
              "      <th>Tomate</th>\n",
              "      <th>Cebola</th>\n",
              "      <th>Abacaxi</th>\n",
              "      <th>Hamburguers</th>\n",
              "      <th>Queijo</th>\n",
              "      <th>Presunto</th>\n",
              "      <th>Requeijão</th>\n",
              "      <th>Orégano</th>\n",
              "      <th>Bauru</th>\n",
              "    </tr>\n",
              "  </thead>\n",
              "  <tbody>\n",
              "    <tr>\n",
              "      <th>4</th>\n",
              "      <td>5</td>\n",
              "      <td>13.0</td>\n",
              "      <td>15.0</td>\n",
              "      <td>11.0</td>\n",
              "      <td>11.0</td>\n",
              "      <td>75.0</td>\n",
              "      <td>0.0</td>\n",
              "      <td>0.0</td>\n",
              "      <td>0.0</td>\n",
              "      <td>0.0</td>\n",
              "      <td>0.0</td>\n",
              "    </tr>\n",
              "    <tr>\n",
              "      <th>3</th>\n",
              "      <td>4</td>\n",
              "      <td>9.0</td>\n",
              "      <td>13.0</td>\n",
              "      <td>9.0</td>\n",
              "      <td>9.0</td>\n",
              "      <td>52.0</td>\n",
              "      <td>0.0</td>\n",
              "      <td>0.0</td>\n",
              "      <td>0.0</td>\n",
              "      <td>0.0</td>\n",
              "      <td>0.0</td>\n",
              "    </tr>\n",
              "    <tr>\n",
              "      <th>2</th>\n",
              "      <td>3</td>\n",
              "      <td>6.0</td>\n",
              "      <td>8.0</td>\n",
              "      <td>25.0</td>\n",
              "      <td>25.0</td>\n",
              "      <td>24.0</td>\n",
              "      <td>0.0</td>\n",
              "      <td>0.0</td>\n",
              "      <td>0.0</td>\n",
              "      <td>0.0</td>\n",
              "      <td>0.0</td>\n",
              "    </tr>\n",
              "  </tbody>\n",
              "</table>\n",
              "</div>"
            ],
            "text/plain": [
              "   Pão  Barbecue  Tomate  Cebola  ...  Presunto  Requeijão  Orégano  Bauru\n",
              "4    5      13.0    15.0    11.0  ...       0.0        0.0      0.0    0.0\n",
              "3    4       9.0    13.0     9.0  ...       0.0        0.0      0.0    0.0\n",
              "2    3       6.0     8.0    25.0  ...       0.0        0.0      0.0    0.0\n",
              "\n",
              "[3 rows x 11 columns]"
            ]
          },
          "metadata": {},
          "execution_count": 154
        }
      ]
    },
    {
      "cell_type": "code",
      "metadata": {
        "colab": {
          "base_uri": "https://localhost:8080/",
          "height": 110
        },
        "id": "2mJ7ktoSKfCy",
        "outputId": "66c47ce9-bcad-41b6-cd80-45fd4847900c"
      },
      "source": [
        "# Comando que traz os menores valores de uma deternimada coluna 'variável'.nsmallest(quantidade, \"Coluna\")\n",
        "\n",
        "a.nsmallest(2, \"Abacaxi\")"
      ],
      "execution_count": 127,
      "outputs": [
        {
          "output_type": "execute_result",
          "data": {
            "text/html": [
              "<div>\n",
              "<style scoped>\n",
              "    .dataframe tbody tr th:only-of-type {\n",
              "        vertical-align: middle;\n",
              "    }\n",
              "\n",
              "    .dataframe tbody tr th {\n",
              "        vertical-align: top;\n",
              "    }\n",
              "\n",
              "    .dataframe thead th {\n",
              "        text-align: right;\n",
              "    }\n",
              "</style>\n",
              "<table border=\"1\" class=\"dataframe\">\n",
              "  <thead>\n",
              "    <tr style=\"text-align: right;\">\n",
              "      <th></th>\n",
              "      <th>Pão</th>\n",
              "      <th>Barbecue</th>\n",
              "      <th>Tomate</th>\n",
              "      <th>Cebola</th>\n",
              "      <th>Abacaxi</th>\n",
              "      <th>Hamburguers</th>\n",
              "      <th>Queijo</th>\n",
              "      <th>Presunto</th>\n",
              "      <th>Requeijão</th>\n",
              "      <th>Orégano</th>\n",
              "      <th>Bauru</th>\n",
              "    </tr>\n",
              "  </thead>\n",
              "  <tbody>\n",
              "    <tr>\n",
              "      <th>0</th>\n",
              "      <td>10</td>\n",
              "      <td>0.0</td>\n",
              "      <td>0.0</td>\n",
              "      <td>0.0</td>\n",
              "      <td>0.0</td>\n",
              "      <td>0.0</td>\n",
              "      <td>4.0</td>\n",
              "      <td>8.0</td>\n",
              "      <td>7.0</td>\n",
              "      <td>6.0</td>\n",
              "      <td>60.0</td>\n",
              "    </tr>\n",
              "    <tr>\n",
              "      <th>1</th>\n",
              "      <td>25</td>\n",
              "      <td>0.0</td>\n",
              "      <td>0.0</td>\n",
              "      <td>0.0</td>\n",
              "      <td>0.0</td>\n",
              "      <td>0.0</td>\n",
              "      <td>4.0</td>\n",
              "      <td>8.0</td>\n",
              "      <td>5.0</td>\n",
              "      <td>9.0</td>\n",
              "      <td>225.0</td>\n",
              "    </tr>\n",
              "  </tbody>\n",
              "</table>\n",
              "</div>"
            ],
            "text/plain": [
              "   Pão  Barbecue  Tomate  Cebola  ...  Presunto  Requeijão  Orégano  Bauru\n",
              "0   10       0.0     0.0     0.0  ...       8.0        7.0      6.0   60.0\n",
              "1   25       0.0     0.0     0.0  ...       8.0        5.0      9.0  225.0\n",
              "\n",
              "[2 rows x 11 columns]"
            ]
          },
          "metadata": {},
          "execution_count": 127
        }
      ]
    },
    {
      "cell_type": "code",
      "metadata": {
        "colab": {
          "base_uri": "https://localhost:8080/"
        },
        "id": "lIUfFI_NLHvo",
        "outputId": "7219f246-b93b-4484-d5a1-c6cf98cbdded"
      },
      "source": [
        "# Agrupamento por cidade\n",
        "\n",
        "a.groupby(\"Barbecue\")[\"Hamburguers\"].sum()"
      ],
      "execution_count": 128,
      "outputs": [
        {
          "output_type": "execute_result",
          "data": {
            "text/plain": [
              "Barbecue\n",
              "0.0      0.0\n",
              "4.0      3.0\n",
              "5.0     14.0\n",
              "6.0     24.0\n",
              "9.0     52.0\n",
              "13.0    75.0\n",
              "Name: Hamburguers, dtype: float64"
            ]
          },
          "metadata": {},
          "execution_count": 128
        }
      ]
    },
    {
      "cell_type": "code",
      "metadata": {
        "colab": {
          "base_uri": "https://localhost:8080/",
          "height": 357
        },
        "id": "LT81tg6fLOQF",
        "outputId": "6c21e242-6efd-435d-8b5a-549df112ec86"
      },
      "source": [
        "# Ordenando o conjunto de dados\n",
        "\n",
        "a.sort_values(\"Pão\", ascending = True).head(10) # O comando ascending = false, retorna os valores do maior para o menor"
      ],
      "execution_count": 155,
      "outputs": [
        {
          "output_type": "execute_result",
          "data": {
            "text/html": [
              "<div>\n",
              "<style scoped>\n",
              "    .dataframe tbody tr th:only-of-type {\n",
              "        vertical-align: middle;\n",
              "    }\n",
              "\n",
              "    .dataframe tbody tr th {\n",
              "        vertical-align: top;\n",
              "    }\n",
              "\n",
              "    .dataframe thead th {\n",
              "        text-align: right;\n",
              "    }\n",
              "</style>\n",
              "<table border=\"1\" class=\"dataframe\">\n",
              "  <thead>\n",
              "    <tr style=\"text-align: right;\">\n",
              "      <th></th>\n",
              "      <th>Pão</th>\n",
              "      <th>Barbecue</th>\n",
              "      <th>Tomate</th>\n",
              "      <th>Cebola</th>\n",
              "      <th>Abacaxi</th>\n",
              "      <th>Hamburguers</th>\n",
              "      <th>Queijo</th>\n",
              "      <th>Presunto</th>\n",
              "      <th>Requeijão</th>\n",
              "      <th>Orégano</th>\n",
              "      <th>Bauru</th>\n",
              "    </tr>\n",
              "  </thead>\n",
              "  <tbody>\n",
              "    <tr>\n",
              "      <th>0</th>\n",
              "      <td>1</td>\n",
              "      <td>4.0</td>\n",
              "      <td>3.0</td>\n",
              "      <td>8.0</td>\n",
              "      <td>8.0</td>\n",
              "      <td>3.0</td>\n",
              "      <td>0.0</td>\n",
              "      <td>0.0</td>\n",
              "      <td>0.0</td>\n",
              "      <td>0.0</td>\n",
              "      <td>0.0</td>\n",
              "    </tr>\n",
              "    <tr>\n",
              "      <th>1</th>\n",
              "      <td>2</td>\n",
              "      <td>5.0</td>\n",
              "      <td>7.0</td>\n",
              "      <td>15.0</td>\n",
              "      <td>15.0</td>\n",
              "      <td>14.0</td>\n",
              "      <td>0.0</td>\n",
              "      <td>0.0</td>\n",
              "      <td>0.0</td>\n",
              "      <td>0.0</td>\n",
              "      <td>0.0</td>\n",
              "    </tr>\n",
              "    <tr>\n",
              "      <th>2</th>\n",
              "      <td>3</td>\n",
              "      <td>6.0</td>\n",
              "      <td>8.0</td>\n",
              "      <td>25.0</td>\n",
              "      <td>25.0</td>\n",
              "      <td>24.0</td>\n",
              "      <td>0.0</td>\n",
              "      <td>0.0</td>\n",
              "      <td>0.0</td>\n",
              "      <td>0.0</td>\n",
              "      <td>0.0</td>\n",
              "    </tr>\n",
              "    <tr>\n",
              "      <th>3</th>\n",
              "      <td>4</td>\n",
              "      <td>9.0</td>\n",
              "      <td>13.0</td>\n",
              "      <td>9.0</td>\n",
              "      <td>9.0</td>\n",
              "      <td>52.0</td>\n",
              "      <td>0.0</td>\n",
              "      <td>0.0</td>\n",
              "      <td>0.0</td>\n",
              "      <td>0.0</td>\n",
              "      <td>0.0</td>\n",
              "    </tr>\n",
              "    <tr>\n",
              "      <th>4</th>\n",
              "      <td>5</td>\n",
              "      <td>13.0</td>\n",
              "      <td>15.0</td>\n",
              "      <td>11.0</td>\n",
              "      <td>11.0</td>\n",
              "      <td>75.0</td>\n",
              "      <td>0.0</td>\n",
              "      <td>0.0</td>\n",
              "      <td>0.0</td>\n",
              "      <td>0.0</td>\n",
              "      <td>0.0</td>\n",
              "    </tr>\n",
              "    <tr>\n",
              "      <th>2</th>\n",
              "      <td>8</td>\n",
              "      <td>0.0</td>\n",
              "      <td>0.0</td>\n",
              "      <td>0.0</td>\n",
              "      <td>0.0</td>\n",
              "      <td>0.0</td>\n",
              "      <td>11.0</td>\n",
              "      <td>8.0</td>\n",
              "      <td>12.0</td>\n",
              "      <td>15.0</td>\n",
              "      <td>120.0</td>\n",
              "    </tr>\n",
              "    <tr>\n",
              "      <th>3</th>\n",
              "      <td>9</td>\n",
              "      <td>0.0</td>\n",
              "      <td>0.0</td>\n",
              "      <td>0.0</td>\n",
              "      <td>0.0</td>\n",
              "      <td>0.0</td>\n",
              "      <td>12.0</td>\n",
              "      <td>13.0</td>\n",
              "      <td>4.0</td>\n",
              "      <td>9.0</td>\n",
              "      <td>81.0</td>\n",
              "    </tr>\n",
              "    <tr>\n",
              "      <th>0</th>\n",
              "      <td>10</td>\n",
              "      <td>0.0</td>\n",
              "      <td>0.0</td>\n",
              "      <td>0.0</td>\n",
              "      <td>0.0</td>\n",
              "      <td>0.0</td>\n",
              "      <td>4.0</td>\n",
              "      <td>8.0</td>\n",
              "      <td>7.0</td>\n",
              "      <td>6.0</td>\n",
              "      <td>60.0</td>\n",
              "    </tr>\n",
              "    <tr>\n",
              "      <th>4</th>\n",
              "      <td>14</td>\n",
              "      <td>0.0</td>\n",
              "      <td>0.0</td>\n",
              "      <td>0.0</td>\n",
              "      <td>0.0</td>\n",
              "      <td>0.0</td>\n",
              "      <td>15.0</td>\n",
              "      <td>20.0</td>\n",
              "      <td>4.0</td>\n",
              "      <td>6.0</td>\n",
              "      <td>84.0</td>\n",
              "    </tr>\n",
              "    <tr>\n",
              "      <th>1</th>\n",
              "      <td>25</td>\n",
              "      <td>0.0</td>\n",
              "      <td>0.0</td>\n",
              "      <td>0.0</td>\n",
              "      <td>0.0</td>\n",
              "      <td>0.0</td>\n",
              "      <td>4.0</td>\n",
              "      <td>8.0</td>\n",
              "      <td>5.0</td>\n",
              "      <td>9.0</td>\n",
              "      <td>225.0</td>\n",
              "    </tr>\n",
              "  </tbody>\n",
              "</table>\n",
              "</div>"
            ],
            "text/plain": [
              "   Pão  Barbecue  Tomate  Cebola  ...  Presunto  Requeijão  Orégano  Bauru\n",
              "0    1       4.0     3.0     8.0  ...       0.0        0.0      0.0    0.0\n",
              "1    2       5.0     7.0    15.0  ...       0.0        0.0      0.0    0.0\n",
              "2    3       6.0     8.0    25.0  ...       0.0        0.0      0.0    0.0\n",
              "3    4       9.0    13.0     9.0  ...       0.0        0.0      0.0    0.0\n",
              "4    5      13.0    15.0    11.0  ...       0.0        0.0      0.0    0.0\n",
              "2    8       0.0     0.0     0.0  ...       8.0       12.0     15.0  120.0\n",
              "3    9       0.0     0.0     0.0  ...      13.0        4.0      9.0   81.0\n",
              "0   10       0.0     0.0     0.0  ...       8.0        7.0      6.0   60.0\n",
              "4   14       0.0     0.0     0.0  ...      20.0        4.0      6.0   84.0\n",
              "1   25       0.0     0.0     0.0  ...       8.0        5.0      9.0  225.0\n",
              "\n",
              "[10 rows x 11 columns]"
            ]
          },
          "metadata": {},
          "execution_count": 155
        }
      ]
    },
    {
      "cell_type": "code",
      "metadata": {
        "id": "MvB6bhCOL2wp"
      },
      "source": [
        "a[\"Data\"] = pd.DataFrame({\"Data\": [\"2021-08-10\", \"2021-09-15\", \"2021-07-27\", \"2021-04-01\", \"2021-08-17\", \"2021-08-19\",\n",
        "\"2021-09-15\",\"2021-08-25\",\"2021-08-30\", \"2021-05-14\"]})"
      ],
      "execution_count": 168,
      "outputs": []
    },
    {
      "cell_type": "code",
      "metadata": {
        "colab": {
          "base_uri": "https://localhost:8080/"
        },
        "id": "vLT5R5SoQYbM",
        "outputId": "3f2109fb-411b-4cea-fdf5-20c961ced809"
      },
      "source": [
        "a.dtypes\n"
      ],
      "execution_count": 143,
      "outputs": [
        {
          "output_type": "execute_result",
          "data": {
            "text/plain": [
              "Pão              int64\n",
              "Barbecue       float64\n",
              "Tomate         float64\n",
              "Cebola         float64\n",
              "Abacaxi        float64\n",
              "Hamburguers    float64\n",
              "Queijo         float64\n",
              "Presunto       float64\n",
              "Requeijão      float64\n",
              "Orégano        float64\n",
              "Bauru          float64\n",
              "Data            object\n",
              "dtype: object"
            ]
          },
          "metadata": {},
          "execution_count": 143
        }
      ]
    },
    {
      "cell_type": "code",
      "metadata": {
        "id": "_PW7B0rSQ_Uy"
      },
      "source": [
        "# Transformando alguma determinada coluna em data\n",
        "\n",
        "a[\"Data\"] = pd.to_datetime(a[\"Data\"])"
      ],
      "execution_count": 170,
      "outputs": []
    },
    {
      "cell_type": "code",
      "metadata": {
        "colab": {
          "base_uri": "https://localhost:8080/"
        },
        "id": "JJLqL5F2REcU",
        "outputId": "64286b01-b4a1-4cf8-d476-2565b7365a80"
      },
      "source": [
        "a.dtypes"
      ],
      "execution_count": 165,
      "outputs": [
        {
          "output_type": "execute_result",
          "data": {
            "text/plain": [
              "Pão              int64\n",
              "Barbecue       float64\n",
              "Tomate         float64\n",
              "Cebola         float64\n",
              "Abacaxi        float64\n",
              "Hamburguers    float64\n",
              "Queijo         float64\n",
              "Presunto       float64\n",
              "Requeijão      float64\n",
              "Orégano        float64\n",
              "Bauru          float64\n",
              "dtype: object"
            ]
          },
          "metadata": {},
          "execution_count": 165
        }
      ]
    },
    {
      "cell_type": "code",
      "metadata": {
        "colab": {
          "base_uri": "https://localhost:8080/"
        },
        "id": "1fM2I_1rRHN7",
        "outputId": "5e494a86-d6f8-4798-8f09-ebe5550a5743"
      },
      "source": [
        "# Agrupamento por ano\n",
        "\n",
        "a.groupby(a[\"Data\"].dt.year)[\"Tomate\"].sum()"
      ],
      "execution_count": 171,
      "outputs": [
        {
          "output_type": "execute_result",
          "data": {
            "text/plain": [
              "Data\n",
              "2021    46.0\n",
              "Name: Tomate, dtype: float64"
            ]
          },
          "metadata": {},
          "execution_count": 171
        }
      ]
    },
    {
      "cell_type": "code",
      "metadata": {
        "id": "6vs0KDjvRZe_"
      },
      "source": [
        "# Extraindo o dia. mês e ano\n",
        "\n",
        "a[\"dia_venda\"], a[\"mes_venda\"], a[\"ano_venda\"]  = (a[\"Data\"].dt.day, a[\"Data\"].dt.month, a[\"Data\"].dt.year)"
      ],
      "execution_count": 172,
      "outputs": []
    },
    {
      "cell_type": "code",
      "metadata": {
        "colab": {
          "base_uri": "https://localhost:8080/",
          "height": 525
        },
        "id": "LWY7XGGJRw1A",
        "outputId": "7aa66b43-732c-4628-caac-5851a857e950"
      },
      "source": [
        "a"
      ],
      "execution_count": 173,
      "outputs": [
        {
          "output_type": "execute_result",
          "data": {
            "text/html": [
              "<div>\n",
              "<style scoped>\n",
              "    .dataframe tbody tr th:only-of-type {\n",
              "        vertical-align: middle;\n",
              "    }\n",
              "\n",
              "    .dataframe tbody tr th {\n",
              "        vertical-align: top;\n",
              "    }\n",
              "\n",
              "    .dataframe thead th {\n",
              "        text-align: right;\n",
              "    }\n",
              "</style>\n",
              "<table border=\"1\" class=\"dataframe\">\n",
              "  <thead>\n",
              "    <tr style=\"text-align: right;\">\n",
              "      <th></th>\n",
              "      <th>Pão</th>\n",
              "      <th>Barbecue</th>\n",
              "      <th>Tomate</th>\n",
              "      <th>Cebola</th>\n",
              "      <th>Abacaxi</th>\n",
              "      <th>Hamburguers</th>\n",
              "      <th>Queijo</th>\n",
              "      <th>Presunto</th>\n",
              "      <th>Requeijão</th>\n",
              "      <th>Orégano</th>\n",
              "      <th>Bauru</th>\n",
              "      <th>Data</th>\n",
              "      <th>dia_venda</th>\n",
              "      <th>mes_venda</th>\n",
              "      <th>ano_venda</th>\n",
              "    </tr>\n",
              "  </thead>\n",
              "  <tbody>\n",
              "    <tr>\n",
              "      <th>0</th>\n",
              "      <td>1</td>\n",
              "      <td>4.0</td>\n",
              "      <td>3.0</td>\n",
              "      <td>8.0</td>\n",
              "      <td>8.0</td>\n",
              "      <td>3.0</td>\n",
              "      <td>0.0</td>\n",
              "      <td>0.0</td>\n",
              "      <td>0.0</td>\n",
              "      <td>0.0</td>\n",
              "      <td>0.0</td>\n",
              "      <td>2021-08-10</td>\n",
              "      <td>10</td>\n",
              "      <td>8</td>\n",
              "      <td>2021</td>\n",
              "    </tr>\n",
              "    <tr>\n",
              "      <th>1</th>\n",
              "      <td>2</td>\n",
              "      <td>5.0</td>\n",
              "      <td>7.0</td>\n",
              "      <td>15.0</td>\n",
              "      <td>15.0</td>\n",
              "      <td>14.0</td>\n",
              "      <td>0.0</td>\n",
              "      <td>0.0</td>\n",
              "      <td>0.0</td>\n",
              "      <td>0.0</td>\n",
              "      <td>0.0</td>\n",
              "      <td>2021-09-15</td>\n",
              "      <td>15</td>\n",
              "      <td>9</td>\n",
              "      <td>2021</td>\n",
              "    </tr>\n",
              "    <tr>\n",
              "      <th>2</th>\n",
              "      <td>3</td>\n",
              "      <td>6.0</td>\n",
              "      <td>8.0</td>\n",
              "      <td>25.0</td>\n",
              "      <td>25.0</td>\n",
              "      <td>24.0</td>\n",
              "      <td>0.0</td>\n",
              "      <td>0.0</td>\n",
              "      <td>0.0</td>\n",
              "      <td>0.0</td>\n",
              "      <td>0.0</td>\n",
              "      <td>2021-07-27</td>\n",
              "      <td>27</td>\n",
              "      <td>7</td>\n",
              "      <td>2021</td>\n",
              "    </tr>\n",
              "    <tr>\n",
              "      <th>3</th>\n",
              "      <td>4</td>\n",
              "      <td>9.0</td>\n",
              "      <td>13.0</td>\n",
              "      <td>9.0</td>\n",
              "      <td>9.0</td>\n",
              "      <td>52.0</td>\n",
              "      <td>0.0</td>\n",
              "      <td>0.0</td>\n",
              "      <td>0.0</td>\n",
              "      <td>0.0</td>\n",
              "      <td>0.0</td>\n",
              "      <td>2021-04-01</td>\n",
              "      <td>1</td>\n",
              "      <td>4</td>\n",
              "      <td>2021</td>\n",
              "    </tr>\n",
              "    <tr>\n",
              "      <th>4</th>\n",
              "      <td>5</td>\n",
              "      <td>13.0</td>\n",
              "      <td>15.0</td>\n",
              "      <td>11.0</td>\n",
              "      <td>11.0</td>\n",
              "      <td>75.0</td>\n",
              "      <td>0.0</td>\n",
              "      <td>0.0</td>\n",
              "      <td>0.0</td>\n",
              "      <td>0.0</td>\n",
              "      <td>0.0</td>\n",
              "      <td>2021-08-17</td>\n",
              "      <td>17</td>\n",
              "      <td>8</td>\n",
              "      <td>2021</td>\n",
              "    </tr>\n",
              "    <tr>\n",
              "      <th>0</th>\n",
              "      <td>10</td>\n",
              "      <td>0.0</td>\n",
              "      <td>0.0</td>\n",
              "      <td>0.0</td>\n",
              "      <td>0.0</td>\n",
              "      <td>0.0</td>\n",
              "      <td>4.0</td>\n",
              "      <td>8.0</td>\n",
              "      <td>7.0</td>\n",
              "      <td>6.0</td>\n",
              "      <td>60.0</td>\n",
              "      <td>2021-08-10</td>\n",
              "      <td>10</td>\n",
              "      <td>8</td>\n",
              "      <td>2021</td>\n",
              "    </tr>\n",
              "    <tr>\n",
              "      <th>1</th>\n",
              "      <td>25</td>\n",
              "      <td>0.0</td>\n",
              "      <td>0.0</td>\n",
              "      <td>0.0</td>\n",
              "      <td>0.0</td>\n",
              "      <td>0.0</td>\n",
              "      <td>4.0</td>\n",
              "      <td>8.0</td>\n",
              "      <td>5.0</td>\n",
              "      <td>9.0</td>\n",
              "      <td>225.0</td>\n",
              "      <td>2021-09-15</td>\n",
              "      <td>15</td>\n",
              "      <td>9</td>\n",
              "      <td>2021</td>\n",
              "    </tr>\n",
              "    <tr>\n",
              "      <th>2</th>\n",
              "      <td>8</td>\n",
              "      <td>0.0</td>\n",
              "      <td>0.0</td>\n",
              "      <td>0.0</td>\n",
              "      <td>0.0</td>\n",
              "      <td>0.0</td>\n",
              "      <td>11.0</td>\n",
              "      <td>8.0</td>\n",
              "      <td>12.0</td>\n",
              "      <td>15.0</td>\n",
              "      <td>120.0</td>\n",
              "      <td>2021-07-27</td>\n",
              "      <td>27</td>\n",
              "      <td>7</td>\n",
              "      <td>2021</td>\n",
              "    </tr>\n",
              "    <tr>\n",
              "      <th>3</th>\n",
              "      <td>9</td>\n",
              "      <td>0.0</td>\n",
              "      <td>0.0</td>\n",
              "      <td>0.0</td>\n",
              "      <td>0.0</td>\n",
              "      <td>0.0</td>\n",
              "      <td>12.0</td>\n",
              "      <td>13.0</td>\n",
              "      <td>4.0</td>\n",
              "      <td>9.0</td>\n",
              "      <td>81.0</td>\n",
              "      <td>2021-04-01</td>\n",
              "      <td>1</td>\n",
              "      <td>4</td>\n",
              "      <td>2021</td>\n",
              "    </tr>\n",
              "    <tr>\n",
              "      <th>4</th>\n",
              "      <td>14</td>\n",
              "      <td>0.0</td>\n",
              "      <td>0.0</td>\n",
              "      <td>0.0</td>\n",
              "      <td>0.0</td>\n",
              "      <td>0.0</td>\n",
              "      <td>15.0</td>\n",
              "      <td>20.0</td>\n",
              "      <td>4.0</td>\n",
              "      <td>6.0</td>\n",
              "      <td>84.0</td>\n",
              "      <td>2021-08-17</td>\n",
              "      <td>17</td>\n",
              "      <td>8</td>\n",
              "      <td>2021</td>\n",
              "    </tr>\n",
              "  </tbody>\n",
              "</table>\n",
              "</div>"
            ],
            "text/plain": [
              "   Pão  Barbecue  Tomate  Cebola  ...       Data  dia_venda  mes_venda  ano_venda\n",
              "0    1       4.0     3.0     8.0  ... 2021-08-10         10          8       2021\n",
              "1    2       5.0     7.0    15.0  ... 2021-09-15         15          9       2021\n",
              "2    3       6.0     8.0    25.0  ... 2021-07-27         27          7       2021\n",
              "3    4       9.0    13.0     9.0  ... 2021-04-01          1          4       2021\n",
              "4    5      13.0    15.0    11.0  ... 2021-08-17         17          8       2021\n",
              "0   10       0.0     0.0     0.0  ... 2021-08-10         10          8       2021\n",
              "1   25       0.0     0.0     0.0  ... 2021-09-15         15          9       2021\n",
              "2    8       0.0     0.0     0.0  ... 2021-07-27         27          7       2021\n",
              "3    9       0.0     0.0     0.0  ... 2021-04-01          1          4       2021\n",
              "4   14       0.0     0.0     0.0  ... 2021-08-17         17          8       2021\n",
              "\n",
              "[10 rows x 15 columns]"
            ]
          },
          "metadata": {},
          "execution_count": 173
        }
      ]
    },
    {
      "cell_type": "code",
      "metadata": {
        "colab": {
          "base_uri": "https://localhost:8080/"
        },
        "id": "ELmHwkwIRyI1",
        "outputId": "135e1396-f8e6-449a-885f-073c3e7bd9a0"
      },
      "source": [
        "# Retornando a data mais antiga \n",
        "\n",
        "a[\"Data\"].min()"
      ],
      "execution_count": 176,
      "outputs": [
        {
          "output_type": "execute_result",
          "data": {
            "text/plain": [
              "Timestamp('2021-04-01 00:00:00')"
            ]
          },
          "metadata": {},
          "execution_count": 176
        }
      ]
    },
    {
      "cell_type": "code",
      "metadata": {
        "colab": {
          "base_uri": "https://localhost:8080/"
        },
        "id": "NsbWFhEAU_IP",
        "outputId": "b661f6ee-0989-47f5-ebe5-14c8578bcd60"
      },
      "source": [
        "# Retornando a data mais recente \n",
        "\n",
        "a[\"Data\"].max()"
      ],
      "execution_count": 177,
      "outputs": [
        {
          "output_type": "execute_result",
          "data": {
            "text/plain": [
              "Timestamp('2021-09-15 00:00:00')"
            ]
          },
          "metadata": {},
          "execution_count": 177
        }
      ]
    },
    {
      "cell_type": "code",
      "metadata": {
        "colab": {
          "base_uri": "https://localhost:8080/",
          "height": 278
        },
        "id": "afq78VJjVIoy",
        "outputId": "6a7287ef-2998-4bd2-b597-8c4692046a44"
      },
      "source": [
        "# Gráfico de Barras Vertical sobre os dados da Variável \"Hamburguers\"\n",
        "\n",
        "a[\"Hamburguers\"].value_counts(ascending = False).plot.bar();"
      ],
      "execution_count": 178,
      "outputs": [
        {
          "output_type": "display_data",
          "data": {
            "image/png": "[encoded data removed]",
            "text/plain": [
              "<Figure size 432x288 with 1 Axes>"
            ]
          },
          "metadata": {
            "needs_background": "light"
          }
        }
      ]
    },
    {
      "cell_type": "code",
      "metadata": {
        "colab": {
          "base_uri": "https://localhost:8080/",
          "height": 487
        },
        "id": "gTJjvfrpVlW3",
        "outputId": "77ae41fb-5fbc-4e5a-bdb2-278765c2ebcb"
      },
      "source": [
        "# Adicionando um título e alterando o nome dos eixos\n",
        "\n",
        "import matplotlib.pyplot as plt\n",
        "\n",
        "plt.style.use('classic')\n",
        "a[\"Hamburguers\"].value_counts().plot.bar(title=\"Dados da Hamburgueria\", color=\"green\")\n",
        "plt.xlabel(\"Quantidade\");\n",
        "plt.ylabel(\"Total Vendas\");"
      ],
      "execution_count": 190,
      "outputs": [
        {
          "output_type": "display_data",
          "data": {
            "image/png": "[encoded data removed]",
            "text/plain": [
              "<Figure size 640x480 with 1 Axes>"
            ]
          },
          "metadata": {}
        }
      ]
    }
  ]
}